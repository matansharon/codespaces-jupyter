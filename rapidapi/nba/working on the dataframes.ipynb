{
 "cells": [
  {
   "cell_type": "code",
   "execution_count": 1,
   "id": "0626e26a",
   "metadata": {
    "ExecuteTime": {
     "end_time": "2022-12-20T13:34:14.118312Z",
     "start_time": "2022-12-20T13:34:14.114793Z"
    }
   },
   "outputs": [],
   "source": [
    "import pandas as pd\n",
    "import os"
   ]
  },
  {
   "cell_type": "code",
   "execution_count": 44,
   "id": "1e706389",
   "metadata": {
    "ExecuteTime": {
     "end_time": "2022-12-20T13:53:59.770192Z",
     "start_time": "2022-12-20T13:53:59.715909Z"
    }
   },
   "outputs": [
    {
     "data": {
      "text/html": [
       "<div>\n",
       "<style scoped>\n",
       "    .dataframe tbody tr th:only-of-type {\n",
       "        vertical-align: middle;\n",
       "    }\n",
       "\n",
       "    .dataframe tbody tr th {\n",
       "        vertical-align: top;\n",
       "    }\n",
       "\n",
       "    .dataframe thead th {\n",
       "        text-align: right;\n",
       "    }\n",
       "</style>\n",
       "<table border=\"1\" class=\"dataframe\">\n",
       "  <thead>\n",
       "    <tr style=\"text-align: right;\">\n",
       "      <th></th>\n",
       "      <th>Unnamed: 0.2</th>\n",
       "      <th>Unnamed: 0</th>\n",
       "      <th>player</th>\n",
       "      <th>team</th>\n",
       "      <th>game</th>\n",
       "      <th>points</th>\n",
       "      <th>pos</th>\n",
       "      <th>min</th>\n",
       "      <th>fgm</th>\n",
       "      <th>fga</th>\n",
       "      <th>...</th>\n",
       "      <th>defReb</th>\n",
       "      <th>totReb</th>\n",
       "      <th>assists</th>\n",
       "      <th>pFouls</th>\n",
       "      <th>steals</th>\n",
       "      <th>turnovers</th>\n",
       "      <th>blocks</th>\n",
       "      <th>plusMinus</th>\n",
       "      <th>comment</th>\n",
       "      <th>Unnamed: 0.1</th>\n",
       "    </tr>\n",
       "  </thead>\n",
       "  <tbody>\n",
       "    <tr>\n",
       "      <th>232</th>\n",
       "      <td>232</td>\n",
       "      <td>232</td>\n",
       "      <td>Stephen_Curry</td>\n",
       "      <td>Golden State Warriors</td>\n",
       "      <td>8412</td>\n",
       "      <td>32.0</td>\n",
       "      <td>PG</td>\n",
       "      <td>33:44</td>\n",
       "      <td>11.0</td>\n",
       "      <td>18.0</td>\n",
       "      <td>...</td>\n",
       "      <td>8.0</td>\n",
       "      <td>8.0</td>\n",
       "      <td>3.0</td>\n",
       "      <td>3.0</td>\n",
       "      <td>0.0</td>\n",
       "      <td>3.0</td>\n",
       "      <td>0.0</td>\n",
       "      <td>27.0</td>\n",
       "      <td>NaN</td>\n",
       "      <td>NaN</td>\n",
       "    </tr>\n",
       "  </tbody>\n",
       "</table>\n",
       "<p>1 rows × 28 columns</p>\n",
       "</div>"
      ],
      "text/plain": [
       "     Unnamed: 0.2  Unnamed: 0         player                   team  game  \\\n",
       "232           232         232  Stephen_Curry  Golden State Warriors  8412   \n",
       "\n",
       "     points pos    min   fgm   fga  ...  defReb  totReb  assists  pFouls  \\\n",
       "232    32.0  PG  33:44  11.0  18.0  ...     8.0     8.0      3.0     3.0   \n",
       "\n",
       "     steals  turnovers  blocks  plusMinus  comment  Unnamed: 0.1  \n",
       "232     0.0        3.0     0.0       27.0      NaN           NaN  \n",
       "\n",
       "[1 rows x 28 columns]"
      ]
     },
     "execution_count": 44,
     "metadata": {},
     "output_type": "execute_result"
    }
   ],
   "source": [
    "data=pd.read_csv('all_players.csv')\n",
    "data=data.drop_duplicates(subset=['game'])\n",
    "con1=data['points']>30\n",
    "con2=data['min']>'30'\n",
    "con3=data['ftp']>90\n",
    "con4=data['plusMinus']>10\n",
    "res=data[con1&con2&con3&con4]\n",
    "\n",
    "res[res['plusMinus']==max(res['plusMinus'])]"
   ]
  }
 ],
 "metadata": {
  "kernelspec": {
   "display_name": "Python 3.9.12 ('base')",
   "language": "python",
   "name": "python3"
  },
  "language_info": {
   "codemirror_mode": {
    "name": "ipython",
    "version": 3
   },
   "file_extension": ".py",
   "mimetype": "text/x-python",
   "name": "python",
   "nbconvert_exporter": "python",
   "pygments_lexer": "ipython3",
   "version": "3.9.12"
  },
  "vscode": {
   "interpreter": {
    "hash": "3d5db532c048f37cc8487068e8e1c41ac5ce63d1b52e8a8c32ff882c22c4c18a"
   }
  }
 },
 "nbformat": 4,
 "nbformat_minor": 5
}
