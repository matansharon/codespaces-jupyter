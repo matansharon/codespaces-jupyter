{
 "cells": [
  {
   "cell_type": "code",
   "execution_count": null,
   "metadata": {},
   "outputs": [],
   "source": [
    "# import requests\n",
    "\n",
    "# url = \"https://api-nba-v1.p.rapidapi.com/games\"\n",
    "\n",
    "# querystring = {\"season\":\"2020\"}\n",
    "\n",
    "# headers = {\n",
    "# \t\"X-RapidAPI-Key\": \"bddfdf70b8mshbb1ca9870c018e7p119c4ejsn7cd1c7ceb114\",\n",
    "# \t\"X-RapidAPI-Host\": \"api-nba-v1.p.rapidapi.com\"\n",
    "# }\n",
    "\n",
    "# response = requests.request(\"GET\", url, headers=headers, params=querystring)\n",
    "\n",
    "# print(response.text)"
   ]
  },
  {
   "cell_type": "code",
   "execution_count": 44,
   "metadata": {},
   "outputs": [],
   "source": [
    "import pandas as pd\n",
    "from datetime import datetime"
   ]
  },
  {
   "cell_type": "code",
   "execution_count": 116,
   "metadata": {},
   "outputs": [],
   "source": [
    "def concat_iterable(iter):\n",
    "    res=''\n",
    "    if type(iter)==dict:\n",
    "        \n",
    "            for i in iter.values():\n",
    "                if i:\n",
    "                    res+=str(i)+','\n",
    "                else:\n",
    "                    res+='None'+','\n",
    "            return res[:-1]\n",
    "    return ','.join(iter)\n",
    "\n",
    "\n"
   ]
  },
  {
   "cell_type": "code",
   "execution_count": 167,
   "metadata": {},
   "outputs": [
    {
     "data": {
      "text/plain": [
       "0       {'id': 4, 'name': 'Brooklyn Nets', 'nickname':...\n",
       "1       {'id': 21, 'name': 'Milwaukee Bucks', 'nicknam...\n",
       "2       {'id': 6, 'name': 'Chicago Bulls', 'nickname':...\n",
       "3       {'id': 29, 'name': 'Portland Trail Blazers', '...\n",
       "4       {'id': 17, 'name': 'Los Angeles Lakers', 'nick...\n",
       "                              ...                        \n",
       "1236    {'id': 1, 'name': 'Atlanta Hawks', 'nickname':...\n",
       "1237    {'id': 21, 'name': 'Milwaukee Bucks', 'nicknam...\n",
       "1238    {'id': 1, 'name': 'Atlanta Hawks', 'nickname':...\n",
       "1239    {'id': 21, 'name': 'Milwaukee Bucks', 'nicknam...\n",
       "1240    {'id': 21, 'name': 'Milwaukee Bucks', 'nicknam...\n",
       "Name: teams, Length: 1241, dtype: object"
      ]
     },
     "execution_count": 167,
     "metadata": {},
     "output_type": "execute_result"
    }
   ],
   "source": [
    "temp_response=response.json()\n",
    "keys=temp_response['response'][0].keys()\n",
    "res={}\n",
    "for k in keys:\n",
    "    res[k]=[]\n",
    "for row in temp_response['response']:\n",
    "    for k in row:\n",
    "        # if type(row[k])==dict:\n",
    "            # print(k,row[k])\n",
    "        if k=='date':\n",
    "            temp=(row[k]['start'].split('-'))\n",
    "            temp[2]=temp[2].split('T')[0]\n",
    "            res[k].append(concat_iterable(temp))\n",
    "        # elif k=='teams':\n",
    "            # t=row[k].split(',')\n",
    "            # print(row[k])\n",
    "        elif type(row[k])==dict  :\n",
    "            res[k].append(concat_iterable(row[k]))\n",
    "        \n",
    "        else:\n",
    "            res[k].append(row[k])\n",
    "\n",
    "res=pd.DataFrame(res)\n",
    "res['teams']\n",
    "\n"
   ]
  }
 ],
 "metadata": {
  "kernelspec": {
   "display_name": "Python 3.9.12 ('base')",
   "language": "python",
   "name": "python3"
  },
  "language_info": {
   "codemirror_mode": {
    "name": "ipython",
    "version": 3
   },
   "file_extension": ".py",
   "mimetype": "text/x-python",
   "name": "python",
   "nbconvert_exporter": "python",
   "pygments_lexer": "ipython3",
   "version": "3.9.12"
  },
  "orig_nbformat": 4,
  "vscode": {
   "interpreter": {
    "hash": "3d5db532c048f37cc8487068e8e1c41ac5ce63d1b52e8a8c32ff882c22c4c18a"
   }
  }
 },
 "nbformat": 4,
 "nbformat_minor": 2
}
